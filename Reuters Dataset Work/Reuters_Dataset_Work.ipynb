{
  "nbformat": 4,
  "nbformat_minor": 0,
  "metadata": {
    "colab": {
      "provenance": []
    },
    "kernelspec": {
      "name": "python3",
      "display_name": "Python 3"
    },
    "language_info": {
      "name": "python"
    }
  },
  "cells": [
    {
      "cell_type": "markdown",
      "source": [
        "# **Import Libraries**"
      ],
      "metadata": {
        "id": "MDdPO5_Uum_w"
      }
    },
    {
      "cell_type": "code",
      "source": [
        "import numpy as np\n",
        "import tensorflow as tf\n",
        "import matplotlib.pyplot as plt\n",
        "\n",
        "from tensorflow.keras.datasets import reuters\n",
        "from tensorflow.keras.utils import to_categorical"
      ],
      "metadata": {
        "id": "d1CPK1dGuuJj"
      },
      "execution_count": 65,
      "outputs": []
    },
    {
      "cell_type": "markdown",
      "source": [
        "# **Load Dataset**"
      ],
      "metadata": {
        "id": "nIYO_7YztnVt"
      }
    },
    {
      "cell_type": "code",
      "execution_count": 46,
      "metadata": {
        "id": "DBAvxVplj5Ay"
      },
      "outputs": [],
      "source": [
        "(train_data,train_label),(test_data,test_label) = reuters.load_data(num_words=10000)"
      ]
    },
    {
      "cell_type": "code",
      "source": [
        "print(\"train_data : \",train_data.shape)\n",
        "print(\"train_label : \",train_label.shape)\n",
        "print(\"test_data : \",test_data.shape)\n",
        "print(\"test_label : \",test_label.shape)"
      ],
      "metadata": {
        "colab": {
          "base_uri": "https://localhost:8080/"
        },
        "id": "bBeYk3B-k8fp",
        "outputId": "2357e05e-0800-4710-abdb-c45d5c9704fc"
      },
      "execution_count": 47,
      "outputs": [
        {
          "output_type": "stream",
          "name": "stdout",
          "text": [
            "train_data :  (8982,)\n",
            "train_label :  (8982,)\n",
            "test_data :  (2246,)\n",
            "test_label :  (2246,)\n"
          ]
        }
      ]
    },
    {
      "cell_type": "code",
      "source": [
        "train_data[0]"
      ],
      "metadata": {
        "colab": {
          "base_uri": "https://localhost:8080/"
        },
        "id": "InDef6AelS98",
        "outputId": "6471e7b2-c13e-4a75-e3a0-2135ffbfd453"
      },
      "execution_count": 48,
      "outputs": [
        {
          "output_type": "execute_result",
          "data": {
            "text/plain": [
              "[1,\n",
              " 2,\n",
              " 2,\n",
              " 8,\n",
              " 43,\n",
              " 10,\n",
              " 447,\n",
              " 5,\n",
              " 25,\n",
              " 207,\n",
              " 270,\n",
              " 5,\n",
              " 3095,\n",
              " 111,\n",
              " 16,\n",
              " 369,\n",
              " 186,\n",
              " 90,\n",
              " 67,\n",
              " 7,\n",
              " 89,\n",
              " 5,\n",
              " 19,\n",
              " 102,\n",
              " 6,\n",
              " 19,\n",
              " 124,\n",
              " 15,\n",
              " 90,\n",
              " 67,\n",
              " 84,\n",
              " 22,\n",
              " 482,\n",
              " 26,\n",
              " 7,\n",
              " 48,\n",
              " 4,\n",
              " 49,\n",
              " 8,\n",
              " 864,\n",
              " 39,\n",
              " 209,\n",
              " 154,\n",
              " 6,\n",
              " 151,\n",
              " 6,\n",
              " 83,\n",
              " 11,\n",
              " 15,\n",
              " 22,\n",
              " 155,\n",
              " 11,\n",
              " 15,\n",
              " 7,\n",
              " 48,\n",
              " 9,\n",
              " 4579,\n",
              " 1005,\n",
              " 504,\n",
              " 6,\n",
              " 258,\n",
              " 6,\n",
              " 272,\n",
              " 11,\n",
              " 15,\n",
              " 22,\n",
              " 134,\n",
              " 44,\n",
              " 11,\n",
              " 15,\n",
              " 16,\n",
              " 8,\n",
              " 197,\n",
              " 1245,\n",
              " 90,\n",
              " 67,\n",
              " 52,\n",
              " 29,\n",
              " 209,\n",
              " 30,\n",
              " 32,\n",
              " 132,\n",
              " 6,\n",
              " 109,\n",
              " 15,\n",
              " 17,\n",
              " 12]"
            ]
          },
          "metadata": {},
          "execution_count": 48
        }
      ]
    },
    {
      "cell_type": "code",
      "source": [
        "train_label[0]"
      ],
      "metadata": {
        "colab": {
          "base_uri": "https://localhost:8080/"
        },
        "id": "up-i9v13lfaA",
        "outputId": "307392da-ca19-455d-dc1d-644d4349060a"
      },
      "execution_count": 49,
      "outputs": [
        {
          "output_type": "execute_result",
          "data": {
            "text/plain": [
              "3"
            ]
          },
          "metadata": {},
          "execution_count": 49
        }
      ]
    },
    {
      "cell_type": "markdown",
      "source": [
        "# **Decode one of these reviews back to English words**"
      ],
      "metadata": {
        "id": "pcL89zurtv7T"
      }
    },
    {
      "cell_type": "code",
      "source": [
        "word_index = reuters.get_word_index()\n",
        "reverse_word_index = dict([(value,key) for key,value in word_index.items()])\n",
        "decode_reverse_word_index = \" \".join([reverse_word_index.get(i-3,\"?\") for i in train_data[0]])"
      ],
      "metadata": {
        "id": "aTPpucatliDO"
      },
      "execution_count": 50,
      "outputs": []
    },
    {
      "cell_type": "code",
      "source": [
        "decode_reverse_word_index"
      ],
      "metadata": {
        "colab": {
          "base_uri": "https://localhost:8080/",
          "height": 53
        },
        "id": "dEMIsgTqmQAk",
        "outputId": "2444f198-7d76-4f0e-9dbf-79e86c7bd72e"
      },
      "execution_count": 51,
      "outputs": [
        {
          "output_type": "execute_result",
          "data": {
            "text/plain": [
              "'? ? ? said as a result of its december acquisition of space co it expects earnings per share in 1987 of 1 15 to 1 30 dlrs per share up from 70 cts in 1986 the company said pretax net should rise to nine to 10 mln dlrs from six mln dlrs in 1986 and rental operation revenues to 19 to 22 mln dlrs from 12 5 mln dlrs it said cash flow per share this year should be 2 50 to three dlrs reuter 3'"
            ],
            "application/vnd.google.colaboratory.intrinsic+json": {
              "type": "string"
            }
          },
          "metadata": {},
          "execution_count": 51
        }
      ]
    },
    {
      "cell_type": "markdown",
      "source": [
        "# **Encoding the integer sequence into a binary matrix**"
      ],
      "metadata": {
        "id": "38FZ2b3mt00s"
      }
    },
    {
      "cell_type": "code",
      "source": [
        "def vectorize_sequence(sequence, dimension=10000):\n",
        "  result = np.zeros((len(sequence), dimension))\n",
        "  for i, sequence in enumerate(sequence):\n",
        "    result[i,sequence] = 1.\n",
        "\n",
        "  return result\n",
        "\n",
        "train_data = vectorize_sequence(train_data)\n",
        "test_data = vectorize_sequence(test_data)"
      ],
      "metadata": {
        "id": "4UCBvb2kmUn2"
      },
      "execution_count": 52,
      "outputs": []
    },
    {
      "cell_type": "code",
      "source": [
        "print(\"train_data : \",train_data.shape)\n",
        "print(\"test_data : \",test_data.shape)"
      ],
      "metadata": {
        "colab": {
          "base_uri": "https://localhost:8080/"
        },
        "id": "HdmtD3DBnOOr",
        "outputId": "c643d111-8b1f-4715-83eb-0939cbd18a59"
      },
      "execution_count": 53,
      "outputs": [
        {
          "output_type": "stream",
          "name": "stdout",
          "text": [
            "train_data :  (8982, 10000)\n",
            "test_data :  (2246, 10000)\n"
          ]
        }
      ]
    },
    {
      "cell_type": "markdown",
      "source": [
        "# **Vectorize Label Data**"
      ],
      "metadata": {
        "id": "uyy99NSkt3zG"
      }
    },
    {
      "cell_type": "code",
      "source": [
        "train_label = to_categorical(train_label)\n",
        "test_label = to_categorical(test_label)"
      ],
      "metadata": {
        "id": "orQsuLPWnQTY"
      },
      "execution_count": 54,
      "outputs": []
    },
    {
      "cell_type": "code",
      "source": [
        "print(\"train_label : \",train_label.shape)\n",
        "print(\"test_label : \",test_label.shape)"
      ],
      "metadata": {
        "colab": {
          "base_uri": "https://localhost:8080/"
        },
        "id": "0Kcrvoq2nzdN",
        "outputId": "33bbfd15-1d15-4ad5-be95-799dd9768349"
      },
      "execution_count": 55,
      "outputs": [
        {
          "output_type": "stream",
          "name": "stdout",
          "text": [
            "train_label :  (8982, 46)\n",
            "test_label :  (2246, 46)\n"
          ]
        }
      ]
    },
    {
      "cell_type": "markdown",
      "source": [
        "# **Model**"
      ],
      "metadata": {
        "id": "DVV8F6BhuKXh"
      }
    },
    {
      "cell_type": "code",
      "source": [
        "model = tf.keras.models.Sequential([tf.keras.layers.Dense(64,activation=\"relu\", input_shape=(10000,)),\n",
        "                                    tf.keras.layers.Dense(64, activation=\"relu\"),\n",
        "                                    tf.keras.layers.Dense(46,activation=\"softmax\")])"
      ],
      "metadata": {
        "id": "ypFBuP_Dn2Up"
      },
      "execution_count": 56,
      "outputs": []
    },
    {
      "cell_type": "markdown",
      "source": [
        "# **Compile Model**"
      ],
      "metadata": {
        "id": "nm_5KpR2uTuR"
      }
    },
    {
      "cell_type": "code",
      "source": [
        "model.compile(optimizer=\"rmsprop\", loss=\"categorical_crossentropy\",metrics=[\"accuracy\"])"
      ],
      "metadata": {
        "id": "DWvI-jNVo72R"
      },
      "execution_count": 57,
      "outputs": []
    },
    {
      "cell_type": "code",
      "source": [
        "x_val = train_data[:1000]\n",
        "partial_x_train = train_data[1000:]\n",
        "\n",
        "y_val = train_label[:1000]\n",
        "partial_y_data = train_label[1000:]"
      ],
      "metadata": {
        "id": "YHR-kTPQpNLE"
      },
      "execution_count": 58,
      "outputs": []
    },
    {
      "cell_type": "markdown",
      "source": [
        "# **Train Model**"
      ],
      "metadata": {
        "id": "A-d3KXYluYBj"
      }
    },
    {
      "cell_type": "code",
      "source": [
        "history_dict = model.fit(partial_x_train,partial_y_data,epochs=20,batch_size=512,validation_data=(x_val,y_val))"
      ],
      "metadata": {
        "colab": {
          "base_uri": "https://localhost:8080/"
        },
        "id": "QVXlN7G4qrSj",
        "outputId": "43afab11-7d30-4ea5-c20c-1ade39df16ce"
      },
      "execution_count": 59,
      "outputs": [
        {
          "output_type": "stream",
          "name": "stdout",
          "text": [
            "Epoch 1/20\n",
            "16/16 [==============================] - 2s 70ms/step - loss: 2.7750 - accuracy: 0.4925 - val_loss: 1.8851 - val_accuracy: 0.6100\n",
            "Epoch 2/20\n",
            "16/16 [==============================] - 1s 53ms/step - loss: 1.5640 - accuracy: 0.6629 - val_loss: 1.3944 - val_accuracy: 0.6870\n",
            "Epoch 3/20\n",
            "16/16 [==============================] - 1s 49ms/step - loss: 1.1860 - accuracy: 0.7407 - val_loss: 1.2161 - val_accuracy: 0.7270\n",
            "Epoch 4/20\n",
            "16/16 [==============================] - 1s 50ms/step - loss: 0.9650 - accuracy: 0.7940 - val_loss: 1.1473 - val_accuracy: 0.7300\n",
            "Epoch 5/20\n",
            "16/16 [==============================] - 1s 51ms/step - loss: 0.8067 - accuracy: 0.8271 - val_loss: 1.0151 - val_accuracy: 0.7800\n",
            "Epoch 6/20\n",
            "16/16 [==============================] - 1s 51ms/step - loss: 0.6750 - accuracy: 0.8528 - val_loss: 0.9601 - val_accuracy: 0.7950\n",
            "Epoch 7/20\n",
            "16/16 [==============================] - 1s 51ms/step - loss: 0.5689 - accuracy: 0.8755 - val_loss: 0.9393 - val_accuracy: 0.8000\n",
            "Epoch 8/20\n",
            "16/16 [==============================] - 1s 49ms/step - loss: 0.4850 - accuracy: 0.8956 - val_loss: 0.9042 - val_accuracy: 0.8000\n",
            "Epoch 9/20\n",
            "16/16 [==============================] - 1s 83ms/step - loss: 0.4038 - accuracy: 0.9144 - val_loss: 0.8810 - val_accuracy: 0.8140\n",
            "Epoch 10/20\n",
            "16/16 [==============================] - 1s 88ms/step - loss: 0.3511 - accuracy: 0.9227 - val_loss: 0.9040 - val_accuracy: 0.8080\n",
            "Epoch 11/20\n",
            "16/16 [==============================] - 1s 62ms/step - loss: 0.2994 - accuracy: 0.9349 - val_loss: 0.8723 - val_accuracy: 0.8190\n",
            "Epoch 12/20\n",
            "16/16 [==============================] - 1s 50ms/step - loss: 0.2642 - accuracy: 0.9407 - val_loss: 0.8959 - val_accuracy: 0.8120\n",
            "Epoch 13/20\n",
            "16/16 [==============================] - 1s 50ms/step - loss: 0.2337 - accuracy: 0.9456 - val_loss: 0.8887 - val_accuracy: 0.8230\n",
            "Epoch 14/20\n",
            "16/16 [==============================] - 1s 50ms/step - loss: 0.2090 - accuracy: 0.9479 - val_loss: 0.9005 - val_accuracy: 0.8230\n",
            "Epoch 15/20\n",
            "16/16 [==============================] - 1s 49ms/step - loss: 0.1868 - accuracy: 0.9514 - val_loss: 0.9278 - val_accuracy: 0.8040\n",
            "Epoch 16/20\n",
            "16/16 [==============================] - 1s 51ms/step - loss: 0.1749 - accuracy: 0.9535 - val_loss: 0.9306 - val_accuracy: 0.8040\n",
            "Epoch 17/20\n",
            "16/16 [==============================] - 1s 49ms/step - loss: 0.1601 - accuracy: 0.9555 - val_loss: 0.9386 - val_accuracy: 0.8100\n",
            "Epoch 18/20\n",
            "16/16 [==============================] - 1s 48ms/step - loss: 0.1513 - accuracy: 0.9575 - val_loss: 0.9522 - val_accuracy: 0.8030\n",
            "Epoch 19/20\n",
            "16/16 [==============================] - 1s 51ms/step - loss: 0.1456 - accuracy: 0.9559 - val_loss: 0.9286 - val_accuracy: 0.8110\n",
            "Epoch 20/20\n",
            "16/16 [==============================] - 1s 50ms/step - loss: 0.1357 - accuracy: 0.9563 - val_loss: 0.9661 - val_accuracy: 0.8070\n"
          ]
        }
      ]
    },
    {
      "cell_type": "code",
      "source": [
        "history_dict = history_dict.history\n",
        "loss_values = history_dict[\"loss\"]\n",
        "val_loss_values = history_dict[\"val_loss\"]\n",
        "\n",
        "epochs = range(1, len(loss_values) + 1)\n",
        "\n",
        "plt.plot(epochs, loss_values, \"bo\", label = \"Training Loss\")\n",
        "plt.plot(epochs, val_loss_values, \"b\", label = \"Validation Loss\")\n",
        "plt.title(\"Training and Validation Loss\")\n",
        "plt.xlabel(\"Epochs\")\n",
        "plt.ylabel(\"Loss\")\n",
        "plt.legend()\n",
        "plt.show()"
      ],
      "metadata": {
        "colab": {
          "base_uri": "https://localhost:8080/",
          "height": 472
        },
        "id": "3K0gisxarCUU",
        "outputId": "13488644-e0e3-4ca1-ab12-41867c1cdba0"
      },
      "execution_count": 60,
      "outputs": [
        {
          "output_type": "display_data",
          "data": {
            "text/plain": [
              "<Figure size 640x480 with 1 Axes>"
            ],
            "image/png": "[encoded data removed]"
          },
          "metadata": {}
        }
      ]
    },
    {
      "cell_type": "code",
      "source": [
        "import matplotlib.pyplot as plt\n",
        "\n",
        "loss_values = history_dict[\"accuracy\"]\n",
        "val_loss_values = history_dict[\"val_accuracy\"]\n",
        "\n",
        "epochs = range(1, len(loss_values) + 1)\n",
        "\n",
        "plt.plot(epochs, loss_values, \"bo\", label = \"Training Loss\")\n",
        "plt.plot(epochs, val_loss_values, \"b\", label = \"Validation Loss\")\n",
        "plt.title(\"Training and Validation Loss\")\n",
        "plt.xlabel(\"Epochs\")\n",
        "plt.ylabel(\"Loss\")\n",
        "plt.legend()\n",
        "plt.show()"
      ],
      "metadata": {
        "colab": {
          "base_uri": "https://localhost:8080/",
          "height": 472
        },
        "id": "uMQsxA9usBHL",
        "outputId": "57ef060f-dc83-4f34-e306-358b95f21c39"
      },
      "execution_count": 63,
      "outputs": [
        {
          "output_type": "display_data",
          "data": {
            "text/plain": [
              "<Figure size 640x480 with 1 Axes>"
            ],
            "image/png": "[encoded data removed]"
          },
          "metadata": {}
        }
      ]
    },
    {
      "cell_type": "code",
      "source": [
        "model.evaluate(test_data,test_label)"
      ],
      "metadata": {
        "colab": {
          "base_uri": "https://localhost:8080/"
        },
        "id": "RMUJrJGisO4Z",
        "outputId": "744fa0d9-cbea-4346-f5d4-ced56128ea64"
      },
      "execution_count": 64,
      "outputs": [
        {
          "output_type": "stream",
          "name": "stdout",
          "text": [
            "71/71 [==============================] - 1s 8ms/step - loss: 1.0277 - accuracy: 0.7912\n"
          ]
        },
        {
          "output_type": "execute_result",
          "data": {
            "text/plain": [
              "[1.0276920795440674, 0.7911843061447144]"
            ]
          },
          "metadata": {},
          "execution_count": 64
        }
      ]
    },
    {
      "cell_type": "code",
      "source": [],
      "metadata": {
        "id": "CE6Kw49Fui4-"
      },
      "execution_count": null,
      "outputs": []
    }
  ]
}