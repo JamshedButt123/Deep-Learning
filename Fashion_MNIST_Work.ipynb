{
  "nbformat": 4,
  "nbformat_minor": 0,
  "metadata": {
    "colab": {
      "provenance": [],
      "toc_visible": true
    },
    "kernelspec": {
      "name": "python3",
      "display_name": "Python 3"
    },
    "language_info": {
      "name": "python"
    }
  },
  "cells": [
    {
      "cell_type": "markdown",
      "source": [
        "# **Project Name : ✨Fashion MNIST Clothing Classification✨**\n",
        "\n",
        "AUTHOR : **Jamshed Butt** from **Data Science**"
      ],
      "metadata": {
        "id": "d2kVUWYKWCCA"
      }
    },
    {
      "cell_type": "markdown",
      "source": [
        "# **Introduction :**\n",
        "\n",
        "**Fashion MNIST Clothing Classification**\n",
        "\n",
        "The Fashion-MNIST dataset is proposed as a more challenging replacement dataset for the MNIST dataset.\n",
        "\n",
        "It is a dataset comprised of 60,000 small square 28×28 pixel grayscale images of items of 10 types of clothing, such as shoes, t-shirts, dresses, and more. The mapping of all 0-9 integers to class labels is listed below.\n",
        "\n",
        "0: T-shirt/top\n",
        "\n",
        "1: Trouser\n",
        "\n",
        "2: Pullover\n",
        "\n",
        "3: Dress\n",
        "\n",
        "4: Coat\n",
        "\n",
        "5: Sandal\n",
        "\n",
        "6: Shirt\n",
        "\n",
        "7: Sneaker\n",
        "\n",
        "8: Bag\n",
        "\n",
        "9: Ankle boot"
      ],
      "metadata": {
        "id": "kvz0Zm6WVHxP"
      }
    },
    {
      "cell_type": "markdown",
      "source": [
        "# **Import Libraries**\n",
        "\n"
      ],
      "metadata": {
        "id": "LiQKoHtXUSbE"
      }
    },
    {
      "cell_type": "code",
      "execution_count": 73,
      "metadata": {
        "id": "r3rAfMiX25bF"
      },
      "outputs": [],
      "source": [
        "from tensorflow.keras.datasets import fashion_mnist\n",
        "from tensorflow.keras.utils import to_categorical\n",
        "import tensorflow as tf\n",
        "\n",
        "import numpy as np\n",
        "import matplotlib.pyplot as plt"
      ]
    },
    {
      "cell_type": "markdown",
      "source": [
        "# **Load Dataset**"
      ],
      "metadata": {
        "id": "zV7uu1XJUd22"
      }
    },
    {
      "cell_type": "code",
      "source": [
        "(train_image,train_label),(test_image,test_label) = fashion_mnist.load_data()"
      ],
      "metadata": {
        "id": "YRn4A3f25aiq"
      },
      "execution_count": 74,
      "outputs": []
    },
    {
      "cell_type": "code",
      "source": [
        "print(\"train_image : \",train_image.shape)\n",
        "print(\"train_label : \",train_label.shape)\n",
        "print(\"test_image : \",test_image.shape)\n",
        "print(\"test_label : \",test_label.shape)"
      ],
      "metadata": {
        "colab": {
          "base_uri": "https://localhost:8080/"
        },
        "id": "h0Zfd1Gx53CN",
        "outputId": "1225f027-9da5-4d81-fa5a-7ca4e73723f5"
      },
      "execution_count": 75,
      "outputs": [
        {
          "output_type": "stream",
          "name": "stdout",
          "text": [
            "train_image :  (60000, 28, 28)\n",
            "train_label :  (60000,)\n",
            "test_image :  (10000, 28, 28)\n",
            "test_label :  (10000,)\n"
          ]
        }
      ]
    },
    {
      "cell_type": "code",
      "source": [
        "train_image[0]"
      ],
      "metadata": {
        "colab": {
          "base_uri": "https://localhost:8080/"
        },
        "id": "vOJ6pu6O57uY",
        "outputId": "3a9e7317-12ad-4153-8887-a365726f43b3"
      },
      "execution_count": 76,
      "outputs": [
        {
          "output_type": "execute_result",
          "data": {
            "text/plain": [
              "array([[  0,   0,   0,   0,   0,   0,   0,   0,   0,   0,   0,   0,   0,\n",
              "          0,   0,   0,   0,   0,   0,   0,   0,   0,   0,   0,   0,   0,\n",
              "          0,   0],\n",
              "       [  0,   0,   0,   0,   0,   0,   0,   0,   0,   0,   0,   0,   0,\n",
              "          0,   0,   0,   0,   0,   0,   0,   0,   0,   0,   0,   0,   0,\n",
              "          0,   0],\n",
              "       [  0,   0,   0,   0,   0,   0,   0,   0,   0,   0,   0,   0,   0,\n",
              "          0,   0,   0,   0,   0,   0,   0,   0,   0,   0,   0,   0,   0,\n",
              "          0,   0],\n",
              "       [  0,   0,   0,   0,   0,   0,   0,   0,   0,   0,   0,   0,   1,\n",
              "          0,   0,  13,  73,   0,   0,   1,   4,   0,   0,   0,   0,   1,\n",
              "          1,   0],\n",
              "       [  0,   0,   0,   0,   0,   0,   0,   0,   0,   0,   0,   0,   3,\n",
              "          0,  36, 136, 127,  62,  54,   0,   0,   0,   1,   3,   4,   0,\n",
              "          0,   3],\n",
              "       [  0,   0,   0,   0,   0,   0,   0,   0,   0,   0,   0,   0,   6,\n",
              "          0, 102, 204, 176, 134, 144, 123,  23,   0,   0,   0,   0,  12,\n",
              "         10,   0],\n",
              "       [  0,   0,   0,   0,   0,   0,   0,   0,   0,   0,   0,   0,   0,\n",
              "          0, 155, 236, 207, 178, 107, 156, 161, 109,  64,  23,  77, 130,\n",
              "         72,  15],\n",
              "       [  0,   0,   0,   0,   0,   0,   0,   0,   0,   0,   0,   1,   0,\n",
              "         69, 207, 223, 218, 216, 216, 163, 127, 121, 122, 146, 141,  88,\n",
              "        172,  66],\n",
              "       [  0,   0,   0,   0,   0,   0,   0,   0,   0,   1,   1,   1,   0,\n",
              "        200, 232, 232, 233, 229, 223, 223, 215, 213, 164, 127, 123, 196,\n",
              "        229,   0],\n",
              "       [  0,   0,   0,   0,   0,   0,   0,   0,   0,   0,   0,   0,   0,\n",
              "        183, 225, 216, 223, 228, 235, 227, 224, 222, 224, 221, 223, 245,\n",
              "        173,   0],\n",
              "       [  0,   0,   0,   0,   0,   0,   0,   0,   0,   0,   0,   0,   0,\n",
              "        193, 228, 218, 213, 198, 180, 212, 210, 211, 213, 223, 220, 243,\n",
              "        202,   0],\n",
              "       [  0,   0,   0,   0,   0,   0,   0,   0,   0,   1,   3,   0,  12,\n",
              "        219, 220, 212, 218, 192, 169, 227, 208, 218, 224, 212, 226, 197,\n",
              "        209,  52],\n",
              "       [  0,   0,   0,   0,   0,   0,   0,   0,   0,   0,   6,   0,  99,\n",
              "        244, 222, 220, 218, 203, 198, 221, 215, 213, 222, 220, 245, 119,\n",
              "        167,  56],\n",
              "       [  0,   0,   0,   0,   0,   0,   0,   0,   0,   4,   0,   0,  55,\n",
              "        236, 228, 230, 228, 240, 232, 213, 218, 223, 234, 217, 217, 209,\n",
              "         92,   0],\n",
              "       [  0,   0,   1,   4,   6,   7,   2,   0,   0,   0,   0,   0, 237,\n",
              "        226, 217, 223, 222, 219, 222, 221, 216, 223, 229, 215, 218, 255,\n",
              "         77,   0],\n",
              "       [  0,   3,   0,   0,   0,   0,   0,   0,   0,  62, 145, 204, 228,\n",
              "        207, 213, 221, 218, 208, 211, 218, 224, 223, 219, 215, 224, 244,\n",
              "        159,   0],\n",
              "       [  0,   0,   0,   0,  18,  44,  82, 107, 189, 228, 220, 222, 217,\n",
              "        226, 200, 205, 211, 230, 224, 234, 176, 188, 250, 248, 233, 238,\n",
              "        215,   0],\n",
              "       [  0,  57, 187, 208, 224, 221, 224, 208, 204, 214, 208, 209, 200,\n",
              "        159, 245, 193, 206, 223, 255, 255, 221, 234, 221, 211, 220, 232,\n",
              "        246,   0],\n",
              "       [  3, 202, 228, 224, 221, 211, 211, 214, 205, 205, 205, 220, 240,\n",
              "         80, 150, 255, 229, 221, 188, 154, 191, 210, 204, 209, 222, 228,\n",
              "        225,   0],\n",
              "       [ 98, 233, 198, 210, 222, 229, 229, 234, 249, 220, 194, 215, 217,\n",
              "        241,  65,  73, 106, 117, 168, 219, 221, 215, 217, 223, 223, 224,\n",
              "        229,  29],\n",
              "       [ 75, 204, 212, 204, 193, 205, 211, 225, 216, 185, 197, 206, 198,\n",
              "        213, 240, 195, 227, 245, 239, 223, 218, 212, 209, 222, 220, 221,\n",
              "        230,  67],\n",
              "       [ 48, 203, 183, 194, 213, 197, 185, 190, 194, 192, 202, 214, 219,\n",
              "        221, 220, 236, 225, 216, 199, 206, 186, 181, 177, 172, 181, 205,\n",
              "        206, 115],\n",
              "       [  0, 122, 219, 193, 179, 171, 183, 196, 204, 210, 213, 207, 211,\n",
              "        210, 200, 196, 194, 191, 195, 191, 198, 192, 176, 156, 167, 177,\n",
              "        210,  92],\n",
              "       [  0,   0,  74, 189, 212, 191, 175, 172, 175, 181, 185, 188, 189,\n",
              "        188, 193, 198, 204, 209, 210, 210, 211, 188, 188, 194, 192, 216,\n",
              "        170,   0],\n",
              "       [  2,   0,   0,   0,  66, 200, 222, 237, 239, 242, 246, 243, 244,\n",
              "        221, 220, 193, 191, 179, 182, 182, 181, 176, 166, 168,  99,  58,\n",
              "          0,   0],\n",
              "       [  0,   0,   0,   0,   0,   0,   0,  40,  61,  44,  72,  41,  35,\n",
              "          0,   0,   0,   0,   0,   0,   0,   0,   0,   0,   0,   0,   0,\n",
              "          0,   0],\n",
              "       [  0,   0,   0,   0,   0,   0,   0,   0,   0,   0,   0,   0,   0,\n",
              "          0,   0,   0,   0,   0,   0,   0,   0,   0,   0,   0,   0,   0,\n",
              "          0,   0],\n",
              "       [  0,   0,   0,   0,   0,   0,   0,   0,   0,   0,   0,   0,   0,\n",
              "          0,   0,   0,   0,   0,   0,   0,   0,   0,   0,   0,   0,   0,\n",
              "          0,   0]], dtype=uint8)"
            ]
          },
          "metadata": {},
          "execution_count": 76
        }
      ]
    },
    {
      "cell_type": "code",
      "source": [
        "train_label[0]"
      ],
      "metadata": {
        "colab": {
          "base_uri": "https://localhost:8080/"
        },
        "id": "DEbcJw1_7CTw",
        "outputId": "daf4d50f-9c6f-4c3b-cca2-97ccf035a8e8"
      },
      "execution_count": 77,
      "outputs": [
        {
          "output_type": "execute_result",
          "data": {
            "text/plain": [
              "9"
            ]
          },
          "metadata": {},
          "execution_count": 77
        }
      ]
    },
    {
      "cell_type": "code",
      "source": [
        "sample = 1\n",
        "image = train_image[sample]\n",
        "# plot the sample\n",
        "plt.imshow(image, cmap='gray')\n",
        "plt.show()"
      ],
      "metadata": {
        "colab": {
          "base_uri": "https://localhost:8080/",
          "height": 430
        },
        "id": "OPsWPzkR7Eyu",
        "outputId": "5a7cfaa5-6e85-45a4-f3fb-0d01451f52a5"
      },
      "execution_count": 78,
      "outputs": [
        {
          "output_type": "display_data",
          "data": {
            "text/plain": [
              "<Figure size 640x480 with 1 Axes>"
            ],
            "image/png": "[encoded data removed]"
          },
          "metadata": {}
        }
      ]
    },
    {
      "cell_type": "code",
      "source": [
        "train_image = train_image.reshape((60000,28*28))\n",
        "train_image = train_image.astype(\"float32\")/255\n",
        "\n",
        "test_image = test_image.reshape((10000,28*28))\n",
        "test_image = test_image.astype(\"float32\")/255"
      ],
      "metadata": {
        "id": "ioe4PSU17ZwF"
      },
      "execution_count": 79,
      "outputs": []
    },
    {
      "cell_type": "code",
      "source": [
        "train_label = to_categorical(train_label)\n",
        "test_label = to_categorical(test_label)"
      ],
      "metadata": {
        "id": "PR6H4Bnr75BW"
      },
      "execution_count": 80,
      "outputs": []
    },
    {
      "cell_type": "markdown",
      "source": [
        "# **Building Model**"
      ],
      "metadata": {
        "id": "1AjhiuhSUxuW"
      }
    },
    {
      "cell_type": "code",
      "source": [
        "model = tf.keras.models.Sequential([tf.keras.layers.Dense(32, activation=\"relu\", input_shape=(28*28,)),\n",
        "                                    tf.keras.layers.Dense(64, activation=\"relu\"),\n",
        "                                    tf.keras.layers.Dense(64, activation=\"relu\"),\n",
        "                                    tf.keras.layers.Dense(10,activation=\"softmax\")])"
      ],
      "metadata": {
        "id": "O2j4BxQDI_Xa"
      },
      "execution_count": 81,
      "outputs": []
    },
    {
      "cell_type": "code",
      "source": [
        "model.compile(optimizer=\"rmsprop\", loss=\"categorical_crossentropy\", metrics=[\"acc\"])"
      ],
      "metadata": {
        "id": "VcT6pelvJ-Mm"
      },
      "execution_count": 82,
      "outputs": []
    },
    {
      "cell_type": "code",
      "source": [
        "val_image = train_image[:10000]\n",
        "train_image = train_image[10000:]\n",
        "val_label = train_label[:10000]\n",
        "train_label = train_label[10000:]"
      ],
      "metadata": {
        "id": "-bO_GW2qKOC7"
      },
      "execution_count": 83,
      "outputs": []
    },
    {
      "cell_type": "code",
      "source": [
        "print(\"train_image : \",train_image.shape)\n",
        "print(\"train_label : \",train_label.shape)\n",
        "print(\"val_image : \",val_image.shape)\n",
        "print(\"val_label : \",val_label.shape)"
      ],
      "metadata": {
        "colab": {
          "base_uri": "https://localhost:8080/"
        },
        "id": "irmiivtMKqI1",
        "outputId": "99dff937-8fa0-4c33-e7b4-dae0f34cb429"
      },
      "execution_count": 84,
      "outputs": [
        {
          "output_type": "stream",
          "name": "stdout",
          "text": [
            "train_image :  (50000, 784)\n",
            "train_label :  (50000, 10)\n",
            "val_image :  (10000, 784)\n",
            "val_label :  (10000, 10)\n"
          ]
        }
      ]
    },
    {
      "cell_type": "markdown",
      "source": [
        "# **Train Model**"
      ],
      "metadata": {
        "id": "ghFF5YJJU4aY"
      }
    },
    {
      "cell_type": "code",
      "source": [
        "history = model.fit(train_image, train_label, epochs=20, batch_size=128, validation_data=(val_image,val_label))"
      ],
      "metadata": {
        "colab": {
          "base_uri": "https://localhost:8080/"
        },
        "id": "qUg2N-RcKzig",
        "outputId": "1b4abb4c-3513-44fc-91fe-94ef13d4f753"
      },
      "execution_count": 85,
      "outputs": [
        {
          "output_type": "stream",
          "name": "stdout",
          "text": [
            "Epoch 1/20\n",
            "391/391 [==============================] - 2s 5ms/step - loss: 0.6884 - acc: 0.7571 - val_loss: 0.4954 - val_acc: 0.8254\n",
            "Epoch 2/20\n",
            "391/391 [==============================] - 2s 4ms/step - loss: 0.4547 - acc: 0.8387 - val_loss: 0.4158 - val_acc: 0.8479\n",
            "Epoch 3/20\n",
            "391/391 [==============================] - 2s 5ms/step - loss: 0.4069 - acc: 0.8523 - val_loss: 0.4095 - val_acc: 0.8466\n",
            "Epoch 4/20\n",
            "391/391 [==============================] - 2s 6ms/step - loss: 0.3777 - acc: 0.8637 - val_loss: 0.3802 - val_acc: 0.8605\n",
            "Epoch 5/20\n",
            "391/391 [==============================] - 1s 4ms/step - loss: 0.3586 - acc: 0.8701 - val_loss: 0.3560 - val_acc: 0.8677\n",
            "Epoch 6/20\n",
            "391/391 [==============================] - 1s 4ms/step - loss: 0.3447 - acc: 0.8739 - val_loss: 0.3793 - val_acc: 0.8591\n",
            "Epoch 7/20\n",
            "391/391 [==============================] - 2s 4ms/step - loss: 0.3320 - acc: 0.8790 - val_loss: 0.3484 - val_acc: 0.8754\n",
            "Epoch 8/20\n",
            "391/391 [==============================] - 2s 4ms/step - loss: 0.3220 - acc: 0.8823 - val_loss: 0.3494 - val_acc: 0.8720\n",
            "Epoch 9/20\n",
            "391/391 [==============================] - 2s 5ms/step - loss: 0.3106 - acc: 0.8864 - val_loss: 0.3606 - val_acc: 0.8641\n",
            "Epoch 10/20\n",
            "391/391 [==============================] - 3s 7ms/step - loss: 0.3050 - acc: 0.8872 - val_loss: 0.3472 - val_acc: 0.8745\n",
            "Epoch 11/20\n",
            "391/391 [==============================] - 2s 6ms/step - loss: 0.2945 - acc: 0.8905 - val_loss: 0.3395 - val_acc: 0.8773\n",
            "Epoch 12/20\n",
            "391/391 [==============================] - 2s 4ms/step - loss: 0.2885 - acc: 0.8942 - val_loss: 0.3463 - val_acc: 0.8726\n",
            "Epoch 13/20\n",
            "391/391 [==============================] - 2s 4ms/step - loss: 0.2813 - acc: 0.8957 - val_loss: 0.3460 - val_acc: 0.8745\n",
            "Epoch 14/20\n",
            "391/391 [==============================] - 2s 4ms/step - loss: 0.2744 - acc: 0.8984 - val_loss: 0.3535 - val_acc: 0.8737\n",
            "Epoch 15/20\n",
            "391/391 [==============================] - 1s 4ms/step - loss: 0.2690 - acc: 0.9000 - val_loss: 0.3347 - val_acc: 0.8831\n",
            "Epoch 16/20\n",
            "391/391 [==============================] - 1s 4ms/step - loss: 0.2613 - acc: 0.9031 - val_loss: 0.3564 - val_acc: 0.8706\n",
            "Epoch 17/20\n",
            "391/391 [==============================] - 1s 4ms/step - loss: 0.2578 - acc: 0.9041 - val_loss: 0.3418 - val_acc: 0.8753\n",
            "Epoch 18/20\n",
            "391/391 [==============================] - 2s 5ms/step - loss: 0.2528 - acc: 0.9064 - val_loss: 0.3391 - val_acc: 0.8758\n",
            "Epoch 19/20\n",
            "391/391 [==============================] - 2s 5ms/step - loss: 0.2492 - acc: 0.9078 - val_loss: 0.3491 - val_acc: 0.8752\n",
            "Epoch 20/20\n",
            "391/391 [==============================] - 1s 4ms/step - loss: 0.2457 - acc: 0.9092 - val_loss: 0.3455 - val_acc: 0.8837\n"
          ]
        }
      ]
    },
    {
      "cell_type": "code",
      "source": [
        "model.evaluate(test_image,test_label)"
      ],
      "metadata": {
        "colab": {
          "base_uri": "https://localhost:8080/"
        },
        "id": "ZGnuoRksLGeY",
        "outputId": "d50984af-a748-4fbc-f453-2475b1f51ddc"
      },
      "execution_count": 86,
      "outputs": [
        {
          "output_type": "stream",
          "name": "stdout",
          "text": [
            "313/313 [==============================] - 1s 2ms/step - loss: 0.3758 - acc: 0.8744\n"
          ]
        },
        {
          "output_type": "execute_result",
          "data": {
            "text/plain": [
              "[0.3758319616317749, 0.8744000196456909]"
            ]
          },
          "metadata": {},
          "execution_count": 86
        }
      ]
    },
    {
      "cell_type": "code",
      "source": [
        "acc = history.history[\"acc\"]\n",
        "loss = history.history[\"loss\"]\n",
        "val_loss = history.history[\"val_loss\"]\n",
        "val_acc = history.history[\"val_acc\"]\n",
        "\n",
        "epochs = range(1, len(acc) + 1)\n",
        "\n",
        "plt.plot(epochs, acc, \"bo\", label=\"Training acc\")\n",
        "plt.plot(epochs, val_acc, \"b\", label=\"Validation acc\")\n",
        "plt.title(\"Training and valdication accuracy\")\n",
        "plt.legend()\n",
        "\n",
        "plt.figure()\n",
        "\n",
        "plt.plot(epochs, loss, \"bo\", label=\"Training loss\")\n",
        "plt.plot(epochs, val_loss, \"b\", label=\"Validaton loss\")\n",
        "plt.title(\"Training and valdication accuracy\")\n",
        "plt.legend()\n",
        "\n",
        "plt.show()"
      ],
      "metadata": {
        "colab": {
          "base_uri": "https://localhost:8080/",
          "height": 887
        },
        "id": "ljjAKfdoMi9c",
        "outputId": "182633ae-26ad-4d94-d596-faedd8010060"
      },
      "execution_count": 87,
      "outputs": [
        {
          "output_type": "display_data",
          "data": {
            "text/plain": [
              "<Figure size 640x480 with 1 Axes>"
            ],
            "image/png": "[encoded data removed]"
          },
          "metadata": {}
        },
        {
          "output_type": "display_data",
          "data": {
            "text/plain": [
              "<Figure size 640x480 with 1 Axes>"
            ],
            "image/png": "[encoded data removed]"
          },
          "metadata": {}
        }
      ]
    },
    {
      "cell_type": "code",
      "source": [
        "y_pred = model.predict(test_image)"
      ],
      "metadata": {
        "colab": {
          "base_uri": "https://localhost:8080/"
        },
        "id": "AP06K6ieNCFM",
        "outputId": "34234b0b-dfc9-468c-d7fe-f4b8e8200eb7"
      },
      "execution_count": 88,
      "outputs": [
        {
          "output_type": "stream",
          "name": "stdout",
          "text": [
            "313/313 [==============================] - 1s 2ms/step\n"
          ]
        }
      ]
    },
    {
      "cell_type": "code",
      "source": [
        "y_pred"
      ],
      "metadata": {
        "colab": {
          "base_uri": "https://localhost:8080/"
        },
        "id": "RD60hN68NLL3",
        "outputId": "052c11c9-a3cd-4960-880e-6d0f4e8a38f3"
      },
      "execution_count": 89,
      "outputs": [
        {
          "output_type": "execute_result",
          "data": {
            "text/plain": [
              "array([[1.7593375e-07, 3.3657564e-08, 2.1651768e-08, ..., 1.0814143e-03,\n",
              "        9.7980113e-09, 9.9873561e-01],\n",
              "       [2.3802189e-05, 1.7052333e-09, 9.9823523e-01, ..., 1.9616399e-14,\n",
              "        2.1079334e-08, 3.7831585e-10],\n",
              "       [1.9348936e-13, 9.9999994e-01, 1.5810607e-14, ..., 3.3417039e-32,\n",
              "        5.7061309e-18, 2.1537935e-23],\n",
              "       ...,\n",
              "       [3.4384991e-04, 1.7601531e-07, 2.2230535e-04, ..., 1.0482573e-11,\n",
              "        9.9799198e-01, 3.9013900e-10],\n",
              "       [3.9511802e-10, 9.9999982e-01, 1.1490056e-11, ..., 3.3398362e-21,\n",
              "        8.5129937e-15, 6.3639892e-13],\n",
              "       [1.1135045e-07, 6.4757116e-10, 3.6269631e-07, ..., 9.0067006e-06,\n",
              "        1.1408083e-06, 1.5926756e-06]], dtype=float32)"
            ]
          },
          "metadata": {},
          "execution_count": 89
        }
      ]
    },
    {
      "cell_type": "code",
      "source": [
        "plt.imshow(train_image[11].reshape((28,28)), cmap=plt.cm.binary)\n",
        "plt.show()\n",
        "print(np.argmax(y_pred[11]))"
      ],
      "metadata": {
        "colab": {
          "base_uri": "https://localhost:8080/",
          "height": 447
        },
        "id": "p-l5rLVSOqXv",
        "outputId": "6db528ed-edef-40e0-bfe4-38c87476cc66"
      },
      "execution_count": 90,
      "outputs": [
        {
          "output_type": "display_data",
          "data": {
            "text/plain": [
              "<Figure size 640x480 with 1 Axes>"
            ],
            "image/png": "[encoded data removed]"
          },
          "metadata": {}
        },
        {
          "output_type": "stream",
          "name": "stdout",
          "text": [
            "5\n"
          ]
        }
      ]
    },
    {
      "cell_type": "code",
      "source": [
        "plt.imshow(train_image[6].reshape((28,28)), cmap=plt.cm.binary)\n",
        "plt.show()\n",
        "print(np.argmax(y_pred[6]))"
      ],
      "metadata": {
        "colab": {
          "base_uri": "https://localhost:8080/",
          "height": 447
        },
        "id": "GG-QqkhmPOIc",
        "outputId": "ce6f741e-d783-4278-b963-43a8cd99cd3f"
      },
      "execution_count": 91,
      "outputs": [
        {
          "output_type": "display_data",
          "data": {
            "text/plain": [
              "<Figure size 640x480 with 1 Axes>"
            ],
            "image/png": "[encoded data removed]"
          },
          "metadata": {}
        },
        {
          "output_type": "stream",
          "name": "stdout",
          "text": [
            "4\n"
          ]
        }
      ]
    },
    {
      "cell_type": "code",
      "source": [
        "plt.imshow(train_image[8].reshape((28,28)), cmap=plt.cm.binary)\n",
        "plt.show()\n",
        "print(np.argmax(y_pred[8]))"
      ],
      "metadata": {
        "colab": {
          "base_uri": "https://localhost:8080/",
          "height": 447
        },
        "id": "huTvvfmrQBvG",
        "outputId": "031af0f0-b4d3-40a9-a419-bf14b1118eba"
      },
      "execution_count": 92,
      "outputs": [
        {
          "output_type": "display_data",
          "data": {
            "text/plain": [
              "<Figure size 640x480 with 1 Axes>"
            ],
            "image/png": "[encoded data removed]"
          },
          "metadata": {}
        },
        {
          "output_type": "stream",
          "name": "stdout",
          "text": [
            "5\n"
          ]
        }
      ]
    },
    {
      "cell_type": "code",
      "source": [
        "plt.imshow(train_image[10].reshape((28,28)), cmap=plt.cm.binary)\n",
        "plt.show()\n",
        "print(np.argmax(y_pred[10]))"
      ],
      "metadata": {
        "colab": {
          "base_uri": "https://localhost:8080/",
          "height": 447
        },
        "id": "QZx_i2FDQliX",
        "outputId": "240b9512-367b-4f6b-96a1-be6cf7facb6b"
      },
      "execution_count": 93,
      "outputs": [
        {
          "output_type": "display_data",
          "data": {
            "text/plain": [
              "<Figure size 640x480 with 1 Axes>"
            ],
            "image/png": "[encoded data removed]"
          },
          "metadata": {}
        },
        {
          "output_type": "stream",
          "name": "stdout",
          "text": [
            "4\n"
          ]
        }
      ]
    },
    {
      "cell_type": "code",
      "source": [
        "plt.imshow(train_image[13].reshape((28,28)), cmap=plt.cm.binary)\n",
        "plt.show()\n",
        "print(np.argmax(y_pred[13]))"
      ],
      "metadata": {
        "colab": {
          "base_uri": "https://localhost:8080/",
          "height": 447
        },
        "id": "qGe9kh7QQ-sn",
        "outputId": "3bf04b48-960c-43ae-f371-22d8683d9a9d"
      },
      "execution_count": 94,
      "outputs": [
        {
          "output_type": "display_data",
          "data": {
            "text/plain": [
              "<Figure size 640x480 with 1 Axes>"
            ],
            "image/png": "[encoded data removed]"
          },
          "metadata": {}
        },
        {
          "output_type": "stream",
          "name": "stdout",
          "text": [
            "3\n"
          ]
        }
      ]
    },
    {
      "cell_type": "code",
      "source": [],
      "metadata": {
        "id": "vMTgkw9ZRXGB"
      },
      "execution_count": 94,
      "outputs": []
    }
  ]
}