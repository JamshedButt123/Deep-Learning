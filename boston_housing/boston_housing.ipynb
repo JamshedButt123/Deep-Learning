{
  "nbformat": 4,
  "nbformat_minor": 0,
  "metadata": {
    "colab": {
      "provenance": []
    },
    "kernelspec": {
      "name": "python3",
      "display_name": "Python 3"
    },
    "language_info": {
      "name": "python"
    }
  },
  "cells": [
    {
      "cell_type": "markdown",
      "source": [
        "# **Load Dataset**"
      ],
      "metadata": {
        "id": "UK3oopDuHzJn"
      }
    },
    {
      "cell_type": "code",
      "execution_count": 1,
      "metadata": {
        "id": "5LhOB7AGH9WP"
      },
      "outputs": [],
      "source": [
        "from tensorflow.keras.datasets import boston_housing"
      ]
    },
    {
      "cell_type": "code",
      "source": [
        "(train_data,train_label),(test_data,test_label) = boston_housing.load_data()"
      ],
      "metadata": {
        "colab": {
          "base_uri": "https://localhost:8080/"
        },
        "id": "B9D4J-dOISf7",
        "outputId": "796b8558-b698-4121-bd3b-bef19d9ddb59"
      },
      "execution_count": 2,
      "outputs": [
        {
          "output_type": "stream",
          "name": "stdout",
          "text": [
            "Downloading data from https://storage.googleapis.com/tensorflow/tf-keras-datasets/boston_housing.npz\n",
            "57026/57026 [==============================] - 0s 0us/step\n"
          ]
        }
      ]
    },
    {
      "cell_type": "code",
      "source": [
        "print(\"train_data : \",train_data.shape)\n",
        "print(\"train_label : \",train_label.shape)\n",
        "print(\"test_data : \",test_data.shape)\n",
        "print(\"test_label : \",test_label.shape)"
      ],
      "metadata": {
        "colab": {
          "base_uri": "https://localhost:8080/"
        },
        "id": "TEVvELZyIfhr",
        "outputId": "adef64b8-a913-4925-adae-7dc86778f982"
      },
      "execution_count": 3,
      "outputs": [
        {
          "output_type": "stream",
          "name": "stdout",
          "text": [
            "train_data :  (404, 13)\n",
            "train_label :  (404,)\n",
            "test_data :  (102, 13)\n",
            "test_label :  (102,)\n"
          ]
        }
      ]
    },
    {
      "cell_type": "code",
      "source": [
        "train_data[0]"
      ],
      "metadata": {
        "colab": {
          "base_uri": "https://localhost:8080/"
        },
        "id": "qwQQ1xV2IvyU",
        "outputId": "0403e5af-643e-4044-e72a-d545873bf476"
      },
      "execution_count": 4,
      "outputs": [
        {
          "output_type": "execute_result",
          "data": {
            "text/plain": [
              "array([  1.23247,   0.     ,   8.14   ,   0.     ,   0.538  ,   6.142  ,\n",
              "        91.7    ,   3.9769 ,   4.     , 307.     ,  21.     , 396.9    ,\n",
              "        18.72   ])"
            ]
          },
          "metadata": {},
          "execution_count": 4
        }
      ]
    },
    {
      "cell_type": "code",
      "source": [
        "train_label[0]"
      ],
      "metadata": {
        "colab": {
          "base_uri": "https://localhost:8080/"
        },
        "id": "UDiM97EKIzhm",
        "outputId": "3e480766-568f-47c1-baf5-533af9decee8"
      },
      "execution_count": 5,
      "outputs": [
        {
          "output_type": "execute_result",
          "data": {
            "text/plain": [
              "15.2"
            ]
          },
          "metadata": {},
          "execution_count": 5
        }
      ]
    },
    {
      "cell_type": "markdown",
      "source": [
        "# **Normalize the data**"
      ],
      "metadata": {
        "id": "lpJGdUJJI-J2"
      }
    },
    {
      "cell_type": "code",
      "source": [
        "mean = train_data.mean(axis=0)\n",
        "train_data -= mean\n",
        "\n",
        "std = train_data.std(axis=0)\n",
        "train_data /= std\n",
        "\n",
        "test_data -= mean\n",
        "test_data /= std"
      ],
      "metadata": {
        "id": "bzUGvu92I1Wv"
      },
      "execution_count": 6,
      "outputs": []
    },
    {
      "cell_type": "code",
      "source": [
        "train_data.shape[1]"
      ],
      "metadata": {
        "colab": {
          "base_uri": "https://localhost:8080/"
        },
        "id": "favs5o2gJ8xV",
        "outputId": "14a0619f-1ba1-4c5c-a131-d4311fb0e80f"
      },
      "execution_count": 7,
      "outputs": [
        {
          "output_type": "execute_result",
          "data": {
            "text/plain": [
              "13"
            ]
          },
          "metadata": {},
          "execution_count": 7
        }
      ]
    },
    {
      "cell_type": "markdown",
      "source": [
        "# **Building Model**"
      ],
      "metadata": {
        "id": "8dEeT6XLGsie"
      }
    },
    {
      "cell_type": "code",
      "source": [
        "import tensorflow as tf\n",
        "def build_model():\n",
        "  model = tf.keras.models.Sequential([tf.keras.layers.Dense(64, activation=\"relu\",input_shape=(train_data.shape[1],)),\n",
        "                                      tf.keras.layers.Dense(64,activation=\"relu\"),\n",
        "                                      tf.keras.layers.Dense(1)])\n",
        "  model.compile(optimizer=\"rmsprop\",loss=\"mse\",metrics=[\"mae\"])\n",
        "  return model"
      ],
      "metadata": {
        "id": "Ind0Mt-fJYOP"
      },
      "execution_count": 8,
      "outputs": []
    },
    {
      "cell_type": "code",
      "source": [
        "model = build_model()"
      ],
      "metadata": {
        "id": "WvkxsZ0o-ypD"
      },
      "execution_count": 9,
      "outputs": []
    },
    {
      "cell_type": "code",
      "source": [
        "val_data = train_data[:100]\n",
        "x_train_data = train_data[100:]\n",
        "val_label = train_label[:100]\n",
        "y_train_label = train_label[100:]"
      ],
      "metadata": {
        "id": "BIkbEx2c_rhI"
      },
      "execution_count": 13,
      "outputs": []
    },
    {
      "cell_type": "code",
      "source": [
        "model.fit(x_train_data,y_train_label,epochs=20,batch_size=1,validation_data=(val_data,val_label))"
      ],
      "metadata": {
        "colab": {
          "base_uri": "https://localhost:8080/"
        },
        "id": "iXtXQrp0-9OH",
        "outputId": "b85a1d1f-0949-4545-f636-7e7165fd5534"
      },
      "execution_count": 14,
      "outputs": [
        {
          "output_type": "stream",
          "name": "stdout",
          "text": [
            "Epoch 1/20\n",
            "304/304 [==============================] - 1s 3ms/step - loss: 7.9097 - mae: 1.8291 - val_loss: 2.2150 - val_mae: 0.9670\n",
            "Epoch 2/20\n",
            "304/304 [==============================] - 1s 4ms/step - loss: 7.0057 - mae: 1.7170 - val_loss: 7.5032 - val_mae: 2.1203\n",
            "Epoch 3/20\n",
            "304/304 [==============================] - 1s 3ms/step - loss: 6.8820 - mae: 1.7550 - val_loss: 3.5834 - val_mae: 1.3784\n",
            "Epoch 4/20\n",
            "304/304 [==============================] - 1s 4ms/step - loss: 6.4574 - mae: 1.6743 - val_loss: 3.7222 - val_mae: 1.3896\n",
            "Epoch 5/20\n",
            "304/304 [==============================] - 1s 2ms/step - loss: 6.1159 - mae: 1.6695 - val_loss: 4.2012 - val_mae: 1.4046\n",
            "Epoch 6/20\n",
            "304/304 [==============================] - 1s 2ms/step - loss: 6.1726 - mae: 1.6500 - val_loss: 8.2364 - val_mae: 2.1607\n",
            "Epoch 7/20\n",
            "304/304 [==============================] - 1s 2ms/step - loss: 5.6823 - mae: 1.6029 - val_loss: 4.3628 - val_mae: 1.4881\n",
            "Epoch 8/20\n",
            "304/304 [==============================] - 1s 2ms/step - loss: 5.6094 - mae: 1.6214 - val_loss: 4.0371 - val_mae: 1.4558\n",
            "Epoch 9/20\n",
            "304/304 [==============================] - 1s 2ms/step - loss: 5.6554 - mae: 1.6481 - val_loss: 3.3472 - val_mae: 1.2971\n",
            "Epoch 10/20\n",
            "304/304 [==============================] - 1s 3ms/step - loss: 5.8868 - mae: 1.5916 - val_loss: 3.4207 - val_mae: 1.3126\n",
            "Epoch 11/20\n",
            "304/304 [==============================] - 1s 4ms/step - loss: 5.4870 - mae: 1.5702 - val_loss: 3.4822 - val_mae: 1.3499\n",
            "Epoch 12/20\n",
            "304/304 [==============================] - 1s 3ms/step - loss: 5.5281 - mae: 1.5752 - val_loss: 3.9005 - val_mae: 1.4086\n",
            "Epoch 13/20\n",
            "304/304 [==============================] - 1s 3ms/step - loss: 5.5181 - mae: 1.5112 - val_loss: 3.6382 - val_mae: 1.2779\n",
            "Epoch 14/20\n",
            "304/304 [==============================] - 1s 2ms/step - loss: 5.1195 - mae: 1.4884 - val_loss: 4.8910 - val_mae: 1.5785\n",
            "Epoch 15/20\n",
            "304/304 [==============================] - 1s 2ms/step - loss: 5.2741 - mae: 1.5066 - val_loss: 4.3132 - val_mae: 1.4200\n",
            "Epoch 16/20\n",
            "304/304 [==============================] - 1s 3ms/step - loss: 5.1078 - mae: 1.4818 - val_loss: 5.1117 - val_mae: 1.6107\n",
            "Epoch 17/20\n",
            "304/304 [==============================] - 1s 2ms/step - loss: 4.9593 - mae: 1.4948 - val_loss: 3.7006 - val_mae: 1.3645\n",
            "Epoch 18/20\n",
            "304/304 [==============================] - 1s 3ms/step - loss: 5.2707 - mae: 1.4782 - val_loss: 6.0945 - val_mae: 1.7406\n",
            "Epoch 19/20\n",
            "304/304 [==============================] - 1s 3ms/step - loss: 5.1342 - mae: 1.4751 - val_loss: 7.0719 - val_mae: 1.9888\n",
            "Epoch 20/20\n",
            "304/304 [==============================] - 1s 3ms/step - loss: 4.9601 - mae: 1.4719 - val_loss: 3.8026 - val_mae: 1.4039\n"
          ]
        },
        {
          "output_type": "execute_result",
          "data": {
            "text/plain": [
              "<keras.src.callbacks.History at 0x7bd978303f40>"
            ]
          },
          "metadata": {},
          "execution_count": 14
        }
      ]
    },
    {
      "cell_type": "markdown",
      "source": [
        "# **K-Fold Validation**"
      ],
      "metadata": {
        "id": "GmeuPKNZKkhp"
      }
    },
    {
      "cell_type": "code",
      "source": [
        "import numpy as np\n",
        "\n",
        "k = 4\n",
        "num_val_samples = len(train_data)//k\n",
        "num_epochs = 100\n",
        "all_scores = []\n",
        "\n",
        "for i in range(k):\n",
        "  print('processing fold #', i)\n",
        "  val_data = train_data[i * num_val_samples: (i + 1) * num_val_samples]\n",
        "  val_label = train_label[i * num_val_samples: (i + 1) * num_val_samples]\n",
        "\n",
        "  partial_train_data = np.concatenate(\n",
        "  [train_data[:i * num_val_samples],\n",
        "  train_data[(i + 1) * num_val_samples:]],\n",
        "  axis=0)\n",
        "\n",
        "  partial_train_label = np.concatenate(\n",
        "  [train_label[:i * num_val_samples],\n",
        "  train_label[(i + 1) * num_val_samples:]],\n",
        "  axis=0)\n",
        "\n",
        "  model = build_model()\n",
        "  model.fit(partial_train_data, partial_train_label,\n",
        "  epochs=num_epochs, batch_size=1, verbose=0)\n",
        "  val_mse, val_mae = model.evaluate(val_data, val_label, verbose=0)\n",
        "  all_scores.append(val_mae)"
      ],
      "metadata": {
        "colab": {
          "base_uri": "https://localhost:8080/"
        },
        "id": "kc88qNx8KhI6",
        "outputId": "6c2aabe1-1111-4342-cff1-afcc313c4c04"
      },
      "execution_count": 12,
      "outputs": [
        {
          "output_type": "stream",
          "name": "stdout",
          "text": [
            "processing fold # 0\n",
            "processing fold # 1\n",
            "processing fold # 2\n",
            "processing fold # 3\n"
          ]
        }
      ]
    },
    {
      "cell_type": "code",
      "source": [
        "all_scores"
      ],
      "metadata": {
        "colab": {
          "base_uri": "https://localhost:8080/"
        },
        "id": "BfyKveGRNpuu",
        "outputId": "22715117-73af-4df3-bdd9-4c8d129a2238"
      },
      "execution_count": null,
      "outputs": [
        {
          "output_type": "execute_result",
          "data": {
            "text/plain": [
              "[2.1881139278411865, 2.884908437728882, 2.637974739074707, 2.4547104835510254]"
            ]
          },
          "metadata": {},
          "execution_count": 15
        }
      ]
    },
    {
      "cell_type": "code",
      "source": [
        "np.mean(all_scores)"
      ],
      "metadata": {
        "colab": {
          "base_uri": "https://localhost:8080/"
        },
        "id": "U1Agj0p7Nrcj",
        "outputId": "b0e04198-2360-4d24-a7ed-486170f41ad4"
      },
      "execution_count": null,
      "outputs": [
        {
          "output_type": "execute_result",
          "data": {
            "text/plain": [
              "2.54142689704895"
            ]
          },
          "metadata": {},
          "execution_count": 16
        }
      ]
    },
    {
      "cell_type": "markdown",
      "source": [
        "# **Saving The Validation logs at each fold**"
      ],
      "metadata": {
        "id": "51-ypgNJG-cG"
      }
    },
    {
      "cell_type": "code",
      "source": [
        "num_epochs = 500\n",
        "all_mae_histories = []\n",
        "\n",
        "for i in range(k):\n",
        "  print('processing fold #', i)\n",
        "  val_data = train_data[i * num_val_samples: (i + 1) * num_val_samples]\n",
        "  val_label = train_label[i * num_val_samples: (i + 1) * num_val_samples]\n",
        "\n",
        "  partial_train_data = np.concatenate(\n",
        "  [train_data[:i * num_val_samples],\n",
        "  train_data[(i + 1) * num_val_samples:]],\n",
        "  axis=0)\n",
        "\n",
        "  partial_train_label = np.concatenate(\n",
        "  [train_label[:i * num_val_samples],\n",
        "  train_label[(i + 1) * num_val_samples:]],\n",
        "  axis=0)\n",
        "\n",
        "  model = build_model()\n",
        "  history = model.fit(partial_train_data, partial_train_label,\n",
        "  validation_data=(val_data, val_label),\n",
        "  epochs=num_epochs, batch_size=1, verbose=0)\n",
        "\n",
        "  mae_history = history.history['val_mae']\n",
        "  all_mae_histories.append(mae_history)"
      ],
      "metadata": {
        "colab": {
          "base_uri": "https://localhost:8080/"
        },
        "id": "iUtgNkExNvMF",
        "outputId": "60c8c635-d220-4dc9-e065-4e175663b80b"
      },
      "execution_count": 15,
      "outputs": [
        {
          "output_type": "stream",
          "name": "stdout",
          "text": [
            "processing fold # 0\n",
            "processing fold # 1\n",
            "processing fold # 2\n",
            "processing fold # 3\n"
          ]
        }
      ]
    },
    {
      "cell_type": "markdown",
      "source": [
        "# ** Building the history of successive mean K-fold validation scores**"
      ],
      "metadata": {
        "id": "aaGYc99FHa7X"
      }
    },
    {
      "cell_type": "code",
      "source": [
        "average_mae_history = [\n",
        "    np.mean([x[i] for x in all_mae_histories]) for i in range(num_epochs)\n",
        "]"
      ],
      "metadata": {
        "id": "G4H_2R5PDTWe"
      },
      "execution_count": 16,
      "outputs": []
    },
    {
      "cell_type": "markdown",
      "source": [
        "# **Plotting validation scores**"
      ],
      "metadata": {
        "id": "OcyRjM9AHdNj"
      }
    },
    {
      "cell_type": "code",
      "source": [
        "import matplotlib.pyplot as plt\n",
        "\n",
        "plt.plot(range(1, len(average_mae_history) + 1) , average_mae_history)\n",
        "plt.xlabel(\"Epochs\")\n",
        "plt.ylabel(\"Validation_MAE\")\n",
        "plt.show()"
      ],
      "metadata": {
        "colab": {
          "base_uri": "https://localhost:8080/",
          "height": 449
        },
        "id": "YStN8eInD2QB",
        "outputId": "2c0c6ec3-b2c2-48fd-eefe-b4d572eba48a"
      },
      "execution_count": 17,
      "outputs": [
        {
          "output_type": "display_data",
          "data": {
            "text/plain": [
              "<Figure size 640x480 with 1 Axes>"
            ],
            "image/png": "[encoded data removed]"
          },
          "metadata": {}
        }
      ]
    },
    {
      "cell_type": "markdown",
      "source": [
        "# **Plotting validation scores, excluding the first 10 data points**"
      ],
      "metadata": {
        "id": "Scli_HueHhMb"
      }
    },
    {
      "cell_type": "code",
      "source": [
        "def smooth_curve(points, factor=0.9):\n",
        "  smoothed_points = []\n",
        "  for point in points:\n",
        "    if smoothed_points:\n",
        "      previous = smoothed_points[-1]\n",
        "      smoothed_points.append(previous * factor + point * (1 - factor))\n",
        "    else:\n",
        "      smoothed_points.append(point)\n",
        "  return smoothed_points\n",
        "\n",
        "smooth_mae_history = smooth_curve(average_mae_history[10:])\n",
        "plt.plot(range(1, len(smooth_mae_history) + 1), smooth_mae_history)\n",
        "plt.xlabel('Epochs')\n",
        "plt.ylabel('Validation MAE')\n",
        "plt.show()\n"
      ],
      "metadata": {
        "colab": {
          "base_uri": "https://localhost:8080/",
          "height": 454
        },
        "id": "BudnZmtaFAN3",
        "outputId": "4ba04208-0f25-480a-f69b-0101d5da4e43"
      },
      "execution_count": 18,
      "outputs": [
        {
          "output_type": "display_data",
          "data": {
            "text/plain": [
              "<Figure size 640x480 with 1 Axes>"
            ],
            "image/png": "[encoded data removed]"
          },
          "metadata": {}
        }
      ]
    },
    {
      "cell_type": "markdown",
      "source": [
        "# **Training the final model**"
      ],
      "metadata": {
        "id": "wZ-sWR6VHrD4"
      }
    },
    {
      "cell_type": "code",
      "source": [
        "model = build_model()\n",
        "model.fit(train_data, train_label,epochs=80, batch_size=16, verbose=0)\n",
        "test_mse_score, test_mae_score = model.evaluate(test_data, test_label)"
      ],
      "metadata": {
        "colab": {
          "base_uri": "https://localhost:8080/"
        },
        "id": "I2kCMZrzFYG7",
        "outputId": "78bbeac7-a150-456f-c2b4-17ba5d1b7209"
      },
      "execution_count": 19,
      "outputs": [
        {
          "output_type": "stream",
          "name": "stdout",
          "text": [
            "4/4 [==============================] - 0s 4ms/step - loss: 16.2633 - mae: 2.6166\n"
          ]
        }
      ]
    },
    {
      "cell_type": "code",
      "source": [
        "test_mae_score"
      ],
      "metadata": {
        "colab": {
          "base_uri": "https://localhost:8080/"
        },
        "id": "67hXrC36FeKs",
        "outputId": "1983081b-bc39-4c6a-e9b9-fdb975fd8e3d"
      },
      "execution_count": 20,
      "outputs": [
        {
          "output_type": "execute_result",
          "data": {
            "text/plain": [
              "2.616614580154419"
            ]
          },
          "metadata": {},
          "execution_count": 20
        }
      ]
    }
  ]
}