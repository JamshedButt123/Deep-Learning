{
  "nbformat": 4,
  "nbformat_minor": 0,
  "metadata": {
    "colab": {
      "provenance": [],
      "gpuType": "T4"
    },
    "kernelspec": {
      "name": "python3",
      "display_name": "Python 3"
    },
    "language_info": {
      "name": "python"
    },
    "accelerator": "GPU"
  },
  "cells": [
    {
      "cell_type": "code",
      "source": [
        "# import zipfile\n",
        "# import os\n",
        "\n",
        "# # Define the path to the zip file and the extraction directory\n",
        "# zip_file_path = '/content/drive/MyDrive/Cat_and_Dog Dataset/Cat_and_Dog.zip'\n",
        "# extraction_dir = '/content/drive/MyDrive/Cat_and_Dog Dataset'\n",
        "\n",
        "# # Create the extraction directory if it doesn't exist\n",
        "# os.makedirs(extraction_dir, exist_ok=True)\n",
        "\n",
        "# # Extract the contents of the zip file\n",
        "# with zipfile.ZipFile(zip_file_path, 'r') as zip_ref:\n",
        "#     zip_ref.extractall(extraction_dir)\n",
        "\n",
        "# print(f'Contents of {zip_file_path} have been extracted to {extraction_dir}')\n"
      ],
      "metadata": {
        "colab": {
          "base_uri": "https://localhost:8080/"
        },
        "id": "aUYufXLoMTLt",
        "outputId": "ea40d56e-df61-407e-8d10-f312fa018766"
      },
      "execution_count": 1,
      "outputs": [
        {
          "output_type": "stream",
          "name": "stdout",
          "text": [
            "Contents of /content/drive/MyDrive/Cat_and_Dog Dataset/Cat_and_Dog.zip have been extracted to /content/drive/MyDrive/Cat_and_Dog Dataset\n"
          ]
        }
      ]
    },
    {
      "cell_type": "markdown",
      "source": [
        "# **Connect The Google Drive**"
      ],
      "metadata": {
        "id": "2ZYJ2ehqQ0so"
      }
    },
    {
      "cell_type": "code",
      "source": [
        "from google.colab import drive\n",
        "drive.mount('/content/drive')"
      ],
      "metadata": {
        "colab": {
          "base_uri": "https://localhost:8080/"
        },
        "id": "eNOFl03CQhvY",
        "outputId": "7cd42357-64ae-4a33-da82-6034ab4eaba9"
      },
      "execution_count": 1,
      "outputs": [
        {
          "output_type": "stream",
          "name": "stdout",
          "text": [
            "Drive already mounted at /content/drive; to attempt to forcibly remount, call drive.mount(\"/content/drive\", force_remount=True).\n"
          ]
        }
      ]
    },
    {
      "cell_type": "markdown",
      "source": [
        "# **Load Dataset**"
      ],
      "metadata": {
        "id": "qq-_2hh2Q74i"
      }
    },
    {
      "cell_type": "code",
      "execution_count": 1,
      "metadata": {
        "id": "wWFmRfMTJQ0a"
      },
      "outputs": [],
      "source": [
        "train_data = \"/content/drive/MyDrive/Cat_and_Dog Dataset/training_set\"\n",
        "test_data = \"/content/drive/MyDrive/Cat_and_Dog Dataset/test_set\""
      ]
    },
    {
      "cell_type": "markdown",
      "source": [
        "# **Import Libraries**"
      ],
      "metadata": {
        "id": "yNADbqFERApI"
      }
    },
    {
      "cell_type": "code",
      "source": [
        "import tensorflow as tf\n",
        "import numpy as np\n",
        "import matplotlib.pyplot as plt"
      ],
      "metadata": {
        "id": "0ScYmaSiKUEC"
      },
      "execution_count": 2,
      "outputs": []
    },
    {
      "cell_type": "markdown",
      "source": [
        "# **Network Structure**"
      ],
      "metadata": {
        "id": "AbxVB6VHRGXm"
      }
    },
    {
      "cell_type": "code",
      "source": [
        "# model = tf.keras.models.Sequential([tf.keras.layers.Conv2D(32, (3,3), activation=\"relu\", input_shape=(150,150,3)),\n",
        "#                                     tf.keras.layers.MaxPooling2D(2,2),\n",
        "#                                     tf.keras.layers.Dropout(0.5),\n",
        "#                                     tf.keras.layers.Conv2D(64, (3,3), activation=\"relu\"),\n",
        "#                                     tf.keras.layers.MaxPooling2D(2,2),\n",
        "#                                     tf.keras.layers.Dropout(0.5),\n",
        "#                                     tf.keras.layers.Conv2D(128, (3,3), activation=\"relu\"),\n",
        "#                                     tf.keras.layers.MaxPooling2D(2,2),\n",
        "#                                     tf.keras.layers.Flatten(),\n",
        "#                                     tf.keras.layers.Dense(512, activation=\"relu\"),\n",
        "#                                     tf.keras.layers.Dropout(0.5),\n",
        "#                                     tf.keras.layers.Dense(1, activation=\"sigmoid\")])"
      ],
      "metadata": {
        "id": "0R3_5EHpJqaY"
      },
      "execution_count": 3,
      "outputs": []
    },
    {
      "cell_type": "code",
      "source": [
        "model = tf.keras.models.Sequential([\n",
        "    tf.keras.layers.Conv2D(32, (3, 3), activation=\"relu\", input_shape=(150, 150, 3)),\n",
        "    tf.keras.layers.BatchNormalization(),\n",
        "    tf.keras.layers.MaxPooling2D(2, 2),\n",
        "    tf.keras.layers.Dropout(0.5),\n",
        "\n",
        "    tf.keras.layers.Conv2D(64, (3, 3), activation=\"relu\"),\n",
        "    tf.keras.layers.BatchNormalization(),\n",
        "    tf.keras.layers.MaxPooling2D(2, 2),\n",
        "    tf.keras.layers.Dropout(0.5),\n",
        "\n",
        "    tf.keras.layers.Conv2D(128, (3, 3), activation=\"relu\"),\n",
        "    tf.keras.layers.BatchNormalization(),\n",
        "    tf.keras.layers.MaxPooling2D(2, 2),\n",
        "    tf.keras.layers.Dropout(0.5),\n",
        "\n",
        "    tf.keras.layers.Flatten(),\n",
        "    tf.keras.layers.Dense(512, activation=\"relu\", kernel_regularizer=tf.keras.regularizers.l2(0.001)),\n",
        "    tf.keras.layers.Dropout(0.5),\n",
        "\n",
        "    tf.keras.layers.Dense(1, activation=\"sigmoid\")\n",
        "])"
      ],
      "metadata": {
        "id": "CdodACEnbeJI"
      },
      "execution_count": 4,
      "outputs": []
    },
    {
      "cell_type": "markdown",
      "source": [
        "# **Summary**"
      ],
      "metadata": {
        "id": "0DydJILJRKuY"
      }
    },
    {
      "cell_type": "code",
      "source": [
        "model.summary()"
      ],
      "metadata": {
        "id": "EKJRMFElSXeM",
        "outputId": "8eddecd1-baf9-45f9-f7b0-520ecad2ff1d",
        "colab": {
          "base_uri": "https://localhost:8080/"
        }
      },
      "execution_count": 5,
      "outputs": [
        {
          "output_type": "stream",
          "name": "stdout",
          "text": [
            "Model: \"sequential\"\n",
            "_________________________________________________________________\n",
            " Layer (type)                Output Shape              Param #   \n",
            "=================================================================\n",
            " conv2d (Conv2D)             (None, 148, 148, 32)      896       \n",
            "                                                                 \n",
            " batch_normalization (Batch  (None, 148, 148, 32)      128       \n",
            " Normalization)                                                  \n",
            "                                                                 \n",
            " max_pooling2d (MaxPooling2  (None, 74, 74, 32)        0         \n",
            " D)                                                              \n",
            "                                                                 \n",
            " dropout (Dropout)           (None, 74, 74, 32)        0         \n",
            "                                                                 \n",
            " conv2d_1 (Conv2D)           (None, 72, 72, 64)        18496     \n",
            "                                                                 \n",
            " batch_normalization_1 (Bat  (None, 72, 72, 64)        256       \n",
            " chNormalization)                                                \n",
            "                                                                 \n",
            " max_pooling2d_1 (MaxPoolin  (None, 36, 36, 64)        0         \n",
            " g2D)                                                            \n",
            "                                                                 \n",
            " dropout_1 (Dropout)         (None, 36, 36, 64)        0         \n",
            "                                                                 \n",
            " conv2d_2 (Conv2D)           (None, 34, 34, 128)       73856     \n",
            "                                                                 \n",
            " batch_normalization_2 (Bat  (None, 34, 34, 128)       512       \n",
            " chNormalization)                                                \n",
            "                                                                 \n",
            " max_pooling2d_2 (MaxPoolin  (None, 17, 17, 128)       0         \n",
            " g2D)                                                            \n",
            "                                                                 \n",
            " dropout_2 (Dropout)         (None, 17, 17, 128)       0         \n",
            "                                                                 \n",
            " flatten (Flatten)           (None, 36992)             0         \n",
            "                                                                 \n",
            " dense (Dense)               (None, 512)               18940416  \n",
            "                                                                 \n",
            " dropout_3 (Dropout)         (None, 512)               0         \n",
            "                                                                 \n",
            " dense_1 (Dense)             (None, 1)                 513       \n",
            "                                                                 \n",
            "=================================================================\n",
            "Total params: 19035073 (72.61 MB)\n",
            "Trainable params: 19034625 (72.61 MB)\n",
            "Non-trainable params: 448 (1.75 KB)\n",
            "_________________________________________________________________\n"
          ]
        }
      ]
    },
    {
      "cell_type": "markdown",
      "source": [
        "# **Compile**"
      ],
      "metadata": {
        "id": "-t93WC6bROt4"
      }
    },
    {
      "cell_type": "code",
      "source": [
        "model.compile(optimizer=\"adam\", loss=\"binary_crossentropy\", metrics=[\"accuracy\"])"
      ],
      "metadata": {
        "id": "2E2rgjJcJsxP"
      },
      "execution_count": 6,
      "outputs": []
    },
    {
      "cell_type": "markdown",
      "source": [
        "# **Preprocessing**"
      ],
      "metadata": {
        "id": "3NZeozMdRVF_"
      }
    },
    {
      "cell_type": "code",
      "source": [
        "from tensorflow.keras.preprocessing.image import ImageDataGenerator\n",
        "train_datagen = ImageDataGenerator(rescale = 1./255, validation_split=0.2)\n",
        "test_datagen = ImageDataGenerator(rescale = 1./255)"
      ],
      "metadata": {
        "id": "SoVx7aS3Lw6M"
      },
      "execution_count": 7,
      "outputs": []
    },
    {
      "cell_type": "code",
      "source": [
        "train_generator = train_datagen.flow_from_directory(\n",
        "    train_data,\n",
        "    target_size = (150,150),\n",
        "    batch_size=20,\n",
        "    class_mode=\"binary\",\n",
        "    subset='training')\n",
        "\n",
        "test_generator = test_datagen.flow_from_directory(\n",
        "    test_data,\n",
        "    target_size = (150,150),\n",
        "    batch_size=20,\n",
        "    class_mode=\"binary\")\n",
        "\n",
        "validation_generator = train_datagen.flow_from_directory(\n",
        "    train_data,\n",
        "    target_size = (150,150),\n",
        "    batch_size=20,\n",
        "    class_mode=\"binary\",\n",
        "    subset=\"validation\")\n"
      ],
      "metadata": {
        "colab": {
          "base_uri": "https://localhost:8080/"
        },
        "id": "IefOT049MTUp",
        "outputId": "3ee4dcc1-165f-4d71-e665-1dbdb5bc06ab"
      },
      "execution_count": 8,
      "outputs": [
        {
          "output_type": "stream",
          "name": "stdout",
          "text": [
            "Found 6132 images belonging to 1 classes.\n",
            "Found 2023 images belonging to 1 classes.\n",
            "Found 1532 images belonging to 1 classes.\n"
          ]
        }
      ]
    },
    {
      "cell_type": "code",
      "source": [
        "for data_batch,label_batch in train_generator:\n",
        "  print(\"Data Batch Shape : \", data_batch.shape)\n",
        "  print(\"Label Batch Shape : \", label_batch.shape)\n",
        "  break"
      ],
      "metadata": {
        "colab": {
          "base_uri": "https://localhost:8080/"
        },
        "id": "D99ZnTcdM21P",
        "outputId": "4b35f067-77d5-45ee-a380-abbb8501a157"
      },
      "execution_count": 9,
      "outputs": [
        {
          "output_type": "stream",
          "name": "stdout",
          "text": [
            "Data Batch Shape :  (20, 150, 150, 3)\n",
            "Label Batch Shape :  (20,)\n"
          ]
        }
      ]
    },
    {
      "cell_type": "code",
      "source": [
        "steps_per_epoch = train_generator.samples // train_generator.batch_size\n",
        "validation_steps = validation_generator.samples // validation_generator.batch_size"
      ],
      "metadata": {
        "id": "DZF3rmEeOS4x"
      },
      "execution_count": 10,
      "outputs": []
    },
    {
      "cell_type": "markdown",
      "source": [
        "# **Model Training**"
      ],
      "metadata": {
        "id": "EBl5YxfiRZMn"
      }
    },
    {
      "cell_type": "code",
      "source": [
        "history = model.fit_generator(train_generator, steps_per_epoch=steps_per_epoch, epochs=10,\n",
        "                              validation_data=validation_generator, validation_steps=validation_steps)"
      ],
      "metadata": {
        "colab": {
          "base_uri": "https://localhost:8080/"
        },
        "id": "iwHU_1EwNovQ",
        "outputId": "93bfba87-3417-45b8-ab84-a0bda2746cc4"
      },
      "execution_count": 11,
      "outputs": [
        {
          "output_type": "stream",
          "name": "stderr",
          "text": [
            "<ipython-input-11-a0e37373e6c0>:1: UserWarning: `Model.fit_generator` is deprecated and will be removed in a future version. Please use `Model.fit`, which supports generators.\n",
            "  history = model.fit_generator(train_generator, steps_per_epoch=steps_per_epoch, epochs=10,\n"
          ]
        },
        {
          "output_type": "stream",
          "name": "stdout",
          "text": [
            "Epoch 1/10\n",
            "306/306 [==============================] - 88s 235ms/step - loss: 0.6486 - accuracy: 0.9980 - val_loss: 3.3397 - val_accuracy: 0.9072\n",
            "Epoch 2/10\n",
            "306/306 [==============================] - 39s 128ms/step - loss: 0.4844 - accuracy: 0.9998 - val_loss: 30.8190 - val_accuracy: 0.2316\n",
            "Epoch 3/10\n",
            "306/306 [==============================] - 35s 113ms/step - loss: 0.6072 - accuracy: 0.9997 - val_loss: 0.6028 - val_accuracy: 0.9750\n",
            "Epoch 4/10\n",
            "306/306 [==============================] - 39s 128ms/step - loss: 0.1504 - accuracy: 1.0000 - val_loss: 0.5230 - val_accuracy: 0.9520\n",
            "Epoch 5/10\n",
            "306/306 [==============================] - 39s 129ms/step - loss: 1.0947 - accuracy: 0.9984 - val_loss: 1.5804 - val_accuracy: 1.0000\n",
            "Epoch 6/10\n",
            "306/306 [==============================] - 36s 117ms/step - loss: 0.7838 - accuracy: 1.0000 - val_loss: 0.3731 - val_accuracy: 0.9993\n",
            "Epoch 7/10\n",
            "306/306 [==============================] - 36s 116ms/step - loss: 0.3400 - accuracy: 0.9998 - val_loss: 0.2046 - val_accuracy: 0.9993\n",
            "Epoch 8/10\n",
            "306/306 [==============================] - 40s 129ms/step - loss: 0.1091 - accuracy: 1.0000 - val_loss: 0.0589 - val_accuracy: 0.9993\n",
            "Epoch 9/10\n",
            "306/306 [==============================] - 39s 129ms/step - loss: 0.0357 - accuracy: 1.0000 - val_loss: 0.0217 - val_accuracy: 0.9993\n",
            "Epoch 10/10\n",
            "306/306 [==============================] - 35s 115ms/step - loss: 0.0141 - accuracy: 1.0000 - val_loss: 0.0082 - val_accuracy: 1.0000\n"
          ]
        }
      ]
    },
    {
      "cell_type": "code",
      "source": [
        "# Evaluate the model on the test data\n",
        "test_loss, test_accuracy = model.evaluate(test_generator, steps=test_generator.samples // test_generator.batch_size)\n"
      ],
      "metadata": {
        "colab": {
          "base_uri": "https://localhost:8080/"
        },
        "id": "zUdl4TYNV-YG",
        "outputId": "9eafaedc-a519-4356-a9d2-26778704a820"
      },
      "execution_count": 12,
      "outputs": [
        {
          "output_type": "stream",
          "name": "stdout",
          "text": [
            "101/101 [==============================] - 9s 85ms/step - loss: 0.0084 - accuracy: 0.9995\n"
          ]
        }
      ]
    },
    {
      "cell_type": "code",
      "source": [
        "history_dict = history.history\n",
        "acc = history_dict[\"accuracy\"]\n",
        "val_acc = history_dict[\"val_accuracy\"]\n",
        "loss = history_dict[\"loss\"]\n",
        "val_loss = history_dict[\"val_loss\"]\n",
        "\n",
        "epochs = range(1, len(acc)+1)\n",
        "plt.plot(epochs, loss, \"bo\", label=\"Training Loss\")\n",
        "plt.plot(epochs, val_loss, \"b\", label=\"Validation Loss\")\n",
        "plt.title(\"Training and Validation Loss\")\n",
        "plt.xlabel(\"Epochs\")\n",
        "plt.ylabel(\"Loss\")\n",
        "plt.legend()\n",
        "plt.show()\n",
        "\n",
        "plt.plot(epochs, acc, \"bo\", label=\"Training Accuracy\")\n",
        "plt.plot(epochs, val_acc, \"b\", label=\"Validation Accuracy\")\n",
        "plt.title(\"Training and Validation Accuracy\")\n",
        "plt.xlabel(\"Epochs\")\n",
        "plt.ylabel(\"Accuracy\")"
      ],
      "metadata": {
        "colab": {
          "base_uri": "https://localhost:8080/",
          "height": 945
        },
        "id": "0gR0eSMXOxOp",
        "outputId": "33f11b00-13f3-4dd2-9d45-c6c8e90e5370"
      },
      "execution_count": 13,
      "outputs": [
        {
          "output_type": "display_data",
          "data": {
            "text/plain": [
              "<Figure size 640x480 with 1 Axes>"
            ],
            "image/png": "[encoded data removed]"
          },
          "metadata": {}
        },
        {
          "output_type": "execute_result",
          "data": {
            "text/plain": [
              "Text(0, 0.5, 'Accuracy')"
            ]
          },
          "metadata": {},
          "execution_count": 13
        },
        {
          "output_type": "display_data",
          "data": {
            "text/plain": [
              "<Figure size 640x480 with 1 Axes>"
            ],
            "image/png": "[encoded data removed]"
          },
          "metadata": {}
        }
      ]
    },
    {
      "cell_type": "code",
      "source": [],
      "metadata": {
        "id": "ctwXtjGhSCcl"
      },
      "execution_count": null,
      "outputs": []
    }
  ]
}